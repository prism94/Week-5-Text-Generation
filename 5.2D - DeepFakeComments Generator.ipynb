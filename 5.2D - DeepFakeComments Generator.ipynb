{
 "cells": [
  {
   "cell_type": "markdown",
   "metadata": {},
   "source": [
    "GitHub: https://github.com/MYUSER/MYPROJECT/"
   ]
  },
  {
   "cell_type": "markdown",
   "metadata": {},
   "source": [
    "\n",
    "Welcome to your assignment this week! \n",
    "\n",
    "To better understand the adverse use of AI, in this assignment, we will look at a Natural Language Processing use case.\n",
    "\n",
    "\n",
    "Natural Language Pocessing (NLP) is a branch of Artificial Intelligence (AI) that helps computers to understand, to interpret and to manipulate natural (i.e. human) language.\n",
    "Imagine NLP-powered machines as black boxes that are capable of understanding and evaluating the context of the input documents (i.e. collection of words), outputting meaningful results that depend on the task the machine is designed for.\n",
    "\n",
    "\n",
    "![](imgs/1_3zMvUnPzYZF9CSHdj6hT5A.png)\n",
    "\n",
    "<caption><center> Documents are fed into magic NLP model capable to get, for instance, the sentiment of the original content</center></caption>\n",
    "\n",
    "\n",
    "In this notebook, you will implement a model that uses an LSTM to generate fake tweets and comments. You will also be able to try it to generate your own fake text. \n",
    "\n",
    "**You will learn to:**\n",
    "- Apply an LSTM to generate fake comments.\n",
    "- Generate your own fake text with deep learning.\n",
    "\n",
    "Please run the following cell to load all the packages required in this assignment. This may take a few minutes. \n"
   ]
  },
  {
   "cell_type": "code",
   "execution_count": 1,
   "metadata": {},
   "outputs": [],
   "source": [
    "#!pip install numpy\n",
    "#!pip install keras\n",
    "#!pip install tensorflow"
   ]
  },
  {
   "cell_type": "markdown",
   "metadata": {},
   "source": [
    "Run the following cell to load the packages you will need."
   ]
  },
  {
   "cell_type": "code",
   "execution_count": 2,
   "metadata": {},
   "outputs": [
    {
     "name": "stderr",
     "output_type": "stream",
     "text": [
      "Using TensorFlow backend.\n"
     ]
    }
   ],
   "source": [
    "import time\n",
    "from tensorflow.keras.preprocessing.sequence import pad_sequences\n",
    "from tensorflow.keras.layers import Embedding, LSTM, Dense, Dropout, Bidirectional\n",
    "from tensorflow.keras.preprocessing.text import Tokenizer\n",
    "from tensorflow.keras.models import Sequential\n",
    "from tensorflow.keras.optimizers import Adam\n",
    "from tensorflow.keras import regularizers\n",
    "import tensorflow.keras.utils as ku \n",
    "import keras.backend as K\n",
    "import matplotlib.pyplot as plt\n",
    "import numpy as np\n",
    "import warnings\n",
    "\n",
    "warnings.filterwarnings('ignore')"
   ]
  },
  {
   "cell_type": "markdown",
   "metadata": {},
   "source": [
    "# Build the model"
   ]
  },
  {
   "cell_type": "markdown",
   "metadata": {},
   "source": [
    "Let's define a tokenizer and read the data from disk."
   ]
  },
  {
   "cell_type": "code",
   "execution_count": 3,
   "metadata": {},
   "outputs": [],
   "source": [
    "tokenizer = Tokenizer(filters='\"#$%&()*+-/:;<=>@[\\\\]^_`{|}~\\t\\n')\n",
    "data = open('covid19_fake.txt').read().replace(\".\", \" . \").replace(\",\", \" , \").replace(\"?\", \" ? \").replace(\"!\", \" ! \")"
   ]
  },
  {
   "cell_type": "markdown",
   "metadata": {},
   "source": [
    "Now, let's splits the data into tweets  where each line of the input file is a fake tweets.\n",
    "\n",
    "We also extract the vocabulary of the data."
   ]
  },
  {
   "cell_type": "code",
   "execution_count": 4,
   "metadata": {},
   "outputs": [],
   "source": [
    "corpus = data.lower().split(\"\\n\")\n",
    "tokenizer.fit_on_texts(corpus)\n",
    "total_words = len(tokenizer.word_index) + 1"
   ]
  },
  {
   "cell_type": "markdown",
   "metadata": {},
   "source": [
    "You've loaded:\n",
    "- `corpus`: an array where each entry is a fake post.\n",
    "- `tokenizer`: which is the object that we will use to vectorize our dataset. This object also contains our word index.\n",
    "- `total_words`: is the total number of words in the vacabulary.\n"
   ]
  },
  {
   "cell_type": "code",
   "execution_count": 5,
   "metadata": {},
   "outputs": [
    {
     "name": "stdout",
     "output_type": "stream",
     "text": [
      "Example of fake tweets:  ['there is already a vaccine to treat covid19 . ', 'cleaning hands do not help to prevent covid19 . ']\n",
      "Size of the vocabulary =  1257\n",
      "Example of our word index =  [('.', 1), ('the', 2), ('covid19', 3), ('in', 4), ('to', 5), ('a', 6), ('of', 7), (',', 8), ('coronavirus', 9), ('and', 10)]\n"
     ]
    }
   ],
   "source": [
    "print(\"Example of fake tweets: \",corpus[:2])\n",
    "print(\"Size of the vocabulary = \", total_words)\n",
    "index = [(k, v) for k, v in tokenizer.word_index.items()]\n",
    "print(\"Example of our word index = \", index[0:10])"
   ]
  },
  {
   "cell_type": "markdown",
   "metadata": {},
   "source": [
    "The next step aims to generate the training set of n_grams sequences."
   ]
  },
  {
   "cell_type": "code",
   "execution_count": 6,
   "metadata": {},
   "outputs": [],
   "source": [
    "input_sequences = []\n",
    "for line in corpus:\n",
    "    token_list = tokenizer.texts_to_sequences([line])[0]\n",
    "    for i in range(1, len(token_list)):\n",
    "        n_gram_sequence = token_list[:i+1]\n",
    "        input_sequences.append(n_gram_sequence)"
   ]
  },
  {
   "cell_type": "markdown",
   "metadata": {},
   "source": [
    "You've create:\n",
    "- `input_sequences`: which is a list of n_grams sequences."
   ]
  },
  {
   "cell_type": "code",
   "execution_count": 7,
   "metadata": {},
   "outputs": [
    {
     "name": "stdout",
     "output_type": "stream",
     "text": [
      "The entry  20  in 'input_sequences' is: \n",
      "[2, 3, 12, 187, 34, 188]\n",
      " and it corresponds to:\n",
      "the covid19 is same as sars "
     ]
    }
   ],
   "source": [
    "sample = 20\n",
    "reverse_word_map = dict(map(reversed, tokenizer.word_index.items()))\n",
    "print(\"The entry \",sample,\" in 'input_sequences' is: \")\n",
    "print(input_sequences[sample])\n",
    "print(\" and it corresponds to:\")\n",
    "for i in input_sequences[sample]:\n",
    "    print(reverse_word_map[i], end=' ')\n",
    "                        "
   ]
  },
  {
   "cell_type": "markdown",
   "metadata": {},
   "source": [
    "Next, we padd our training set to the max length in order to be able to make a batch processing."
   ]
  },
  {
   "cell_type": "code",
   "execution_count": 8,
   "metadata": {},
   "outputs": [],
   "source": [
    "max_sequence_len = max([len(x) for x in input_sequences])\n",
    "input_sequences = np.array(pad_sequences(input_sequences, maxlen=max_sequence_len, padding='pre'))"
   ]
  },
  {
   "cell_type": "markdown",
   "metadata": {},
   "source": [
    "Run the following to see the containt of the padded 'input_sequences' object."
   ]
  },
  {
   "cell_type": "code",
   "execution_count": 9,
   "metadata": {},
   "outputs": [
    {
     "name": "stdout",
     "output_type": "stream",
     "text": [
      "The entry  20  in 'input_sequences' is: \n",
      "[  0   0   0   0   0   0   0   0   0   0   0   0   0   0   0   0   0   0\n",
      "   0   0   0   0   0   0   0   0   0   0   0   0   0   0   0   0   0   0\n",
      "   0   0   0   0   0   0   0   0   0   0   0   0   0   0   0   0   0   0\n",
      "   0   2   3  12 187  34 188]\n",
      " and it corresponds to:\n",
      "[ __ __ __ __ __ __ __ __ __ __ __ __ __ __ __ __ __ __ __ __ __ __ __ __ __ __ __ __ __ __ __ __ __ __ __ __ __ __ __ __ __ __ __ __ __ __ __ __ __ __ __ __ __ __ __ the covid19 is same as sars ]\n"
     ]
    }
   ],
   "source": [
    "reverse_word_map = dict(map(reversed, tokenizer.word_index.items()))\n",
    "print(\"The entry \",sample,\" in 'input_sequences' is: \")\n",
    "print(input_sequences[sample])\n",
    "print(\" and it corresponds to:\")\n",
    "print(\"[\", end=' ')\n",
    "for i in input_sequences[sample]:\n",
    "    if i in reverse_word_map:\n",
    "        print(reverse_word_map[i], end=' ')\n",
    "    else:\n",
    "        print(\"__\", end=' ')\n",
    "print(\"]\")\n",
    "                "
   ]
  },
  {
   "cell_type": "markdown",
   "metadata": {},
   "source": [
    "Given a sentence like **\"the covid19 is same as \"**, we want to design a model that can predict the next word -- in the case the word **\"sars\"**.\n",
    "\n",
    "Therefore, the next code prepares our input and output to our model consequently."
   ]
  },
  {
   "cell_type": "code",
   "execution_count": 10,
   "metadata": {},
   "outputs": [],
   "source": [
    "input_to_model, label = input_sequences[:,:-1],input_sequences[:,-1]\n",
    "label_2 = label"
   ]
  },
  {
   "cell_type": "code",
   "execution_count": 11,
   "metadata": {},
   "outputs": [
    {
     "name": "stdout",
     "output_type": "stream",
     "text": [
      "The entry  20  in 'input_sequences' is: \n",
      "[  0   0   0   0   0   0   0   0   0   0   0   0   0   0   0   0   0   0\n",
      "   0   0   0   0   0   0   0   0   0   0   0   0   0   0   0   0   0   0\n",
      "   0   0   0   0   0   0   0   0   0   0   0   0   0   0   0   0   0   0\n",
      "   0   2   3  12 187  34 188]\n",
      ", it corresponds to the following input to our model:\n",
      "[  0   0   0   0   0   0   0   0   0   0   0   0   0   0   0   0   0   0\n",
      "   0   0   0   0   0   0   0   0   0   0   0   0   0   0   0   0   0   0\n",
      "   0   0   0   0   0   0   0   0   0   0   0   0   0   0   0   0   0   0\n",
      "   0   2   3  12 187  34]\n",
      " and the following output:  188\n"
     ]
    }
   ],
   "source": [
    "print(\"The entry \",sample,\" in 'input_sequences' is: \")\n",
    "print(input_sequences[sample])\n",
    "print(\", it corresponds to the following input to our model:\")\n",
    "print(input_to_model[sample])\n",
    "print(\" and the following output: \", label[sample])\n"
   ]
  },
  {
   "cell_type": "markdown",
   "metadata": {},
   "source": [
    "Finally, we convert our label to categorical labels for being processed by our model."
   ]
  },
  {
   "cell_type": "code",
   "execution_count": 12,
   "metadata": {},
   "outputs": [],
   "source": [
    "label = ku.to_categorical(label, num_classes=total_words)"
   ]
  },
  {
   "cell_type": "markdown",
   "metadata": {},
   "source": [
    "Here is the architecture of the model we will use:\n",
    "\n",
    "![](imgs/text_generation.png)\n",
    "\n"
   ]
  },
  {
   "cell_type": "markdown",
   "metadata": {},
   "source": [
    " \n",
    "**Task 1**: Implement `deep_fake_comment_model()`. You will need to carry out 5 steps:\n",
    "\n",
    "1. Create a sequencial model using the `Sequential` class\n",
    "2. Add an embedding layer to the model using the `Embedding` class of size 128\n",
    "3. Add an LSTM layer to the model using the `LSTM` class of size 128\n",
    "4. Add a Dense layer to the model using the `Dense` class with a `softmax` activation\n",
    "5. Set a `categorical_crossentropy` loss function to the model and optimize `accuracy`.\n"
   ]
  },
  {
   "cell_type": "code",
   "execution_count": 13,
   "metadata": {},
   "outputs": [],
   "source": [
    "#TASK 1\n",
    "# deep_fake_comment_model\n",
    "\n",
    "def deep_fake_comment_model():\n",
    "    model = Sequential()\n",
    "    model.add(Embedding(input_dim = total_words, output_dim = 128,input_length=len(input_to_model[0]), name='Embedding'))\n",
    "    model.add(LSTM(units=128, name = 'LSTM'))\n",
    "    model.add(Dense(units=len(label[0]), activation='softmax'))\n",
    "    model.compile(Adam(learning_rate = 0.001), loss='categorical_crossentropy', metrics=['accuracy'])\n",
    "    \n",
    "    return model\n",
    "    \n",
    "#Print details of the model.\n",
    "model = deep_fake_comment_model()\n"
   ]
  },
  {
   "cell_type": "markdown",
   "metadata": {},
   "source": [
    "Now, let's start our training."
   ]
  },
  {
   "cell_type": "code",
   "execution_count": 14,
   "metadata": {
    "scrolled": false
   },
   "outputs": [
    {
     "name": "stdout",
     "output_type": "stream",
     "text": [
      "Epoch 1/200\n",
      "126/126 [==============================] - 1s 8ms/step - loss: 6.3722 - accuracy: 0.0660\n",
      "Epoch 2/200\n",
      "126/126 [==============================] - 1s 8ms/step - loss: 5.8719 - accuracy: 0.0747\n",
      "Epoch 3/200\n",
      "126/126 [==============================] - 1s 8ms/step - loss: 5.7332 - accuracy: 0.0916\n",
      "Epoch 4/200\n",
      "126/126 [==============================] - 1s 9ms/step - loss: 5.6106 - accuracy: 0.1082\n",
      "Epoch 5/200\n",
      "126/126 [==============================] - 1s 8ms/step - loss: 5.4530 - accuracy: 0.1221\n",
      "Epoch 6/200\n",
      "126/126 [==============================] - 1s 8ms/step - loss: 5.2623 - accuracy: 0.1409\n",
      "Epoch 7/200\n",
      "126/126 [==============================] - 1s 8ms/step - loss: 5.0536 - accuracy: 0.1556\n",
      "Epoch 8/200\n",
      "126/126 [==============================] - 1s 9ms/step - loss: 4.8548 - accuracy: 0.1690\n",
      "Epoch 9/200\n",
      "126/126 [==============================] - 1s 9ms/step - loss: 4.6649 - accuracy: 0.1836\n",
      "Epoch 10/200\n",
      "126/126 [==============================] - 1s 9ms/step - loss: 4.4809 - accuracy: 0.1958\n",
      "Epoch 11/200\n",
      "126/126 [==============================] - 1s 10ms/step - loss: 4.3074 - accuracy: 0.2112\n",
      "Epoch 12/200\n",
      "126/126 [==============================] - 1s 10ms/step - loss: 4.1360 - accuracy: 0.2258\n",
      "Epoch 13/200\n",
      "126/126 [==============================] - 1s 10ms/step - loss: 3.9651 - accuracy: 0.2467\n",
      "Epoch 14/200\n",
      "126/126 [==============================] - 1s 9ms/step - loss: 3.8003 - accuracy: 0.2653\n",
      "Epoch 15/200\n",
      "126/126 [==============================] - 1s 10ms/step - loss: 3.6343 - accuracy: 0.2819\n",
      "Epoch 16/200\n",
      "126/126 [==============================] - 1s 9ms/step - loss: 3.4730 - accuracy: 0.3052\n",
      "Epoch 17/200\n",
      "126/126 [==============================] - 1s 9ms/step - loss: 3.3163 - accuracy: 0.3285\n",
      "Epoch 18/200\n",
      "126/126 [==============================] - 1s 10ms/step - loss: 3.1600 - accuracy: 0.3519\n",
      "Epoch 19/200\n",
      "126/126 [==============================] - 1s 9ms/step - loss: 3.0083 - accuracy: 0.3782\n",
      "Epoch 20/200\n",
      "126/126 [==============================] - 1s 9ms/step - loss: 2.8563 - accuracy: 0.3980\n",
      "Epoch 21/200\n",
      "126/126 [==============================] - 1s 9ms/step - loss: 2.7070 - accuracy: 0.4285\n",
      "Epoch 22/200\n",
      "126/126 [==============================] - 1s 8ms/step - loss: 2.5650 - accuracy: 0.4603\n",
      "Epoch 23/200\n",
      "126/126 [==============================] - 1s 8ms/step - loss: 2.4253 - accuracy: 0.4878\n",
      "Epoch 24/200\n",
      "126/126 [==============================] - 1s 9ms/step - loss: 2.2903 - accuracy: 0.5166\n",
      "Epoch 25/200\n",
      "126/126 [==============================] - 1s 9ms/step - loss: 2.1576 - accuracy: 0.5474\n",
      "Epoch 26/200\n",
      "126/126 [==============================] - 1s 10ms/step - loss: 2.0342 - accuracy: 0.5767\n",
      "Epoch 27/200\n",
      "126/126 [==============================] - 1s 10ms/step - loss: 1.9140 - accuracy: 0.6097\n",
      "Epoch 28/200\n",
      "126/126 [==============================] - 1s 9ms/step - loss: 1.7965 - accuracy: 0.6380\n",
      "Epoch 29/200\n",
      "126/126 [==============================] - 1s 9ms/step - loss: 1.6858 - accuracy: 0.6635\n",
      "Epoch 30/200\n",
      "126/126 [==============================] - 1s 9ms/step - loss: 1.5813 - accuracy: 0.6918\n",
      "Epoch 31/200\n",
      "126/126 [==============================] - 1s 9ms/step - loss: 1.4830 - accuracy: 0.7164\n",
      "Epoch 32/200\n",
      "126/126 [==============================] - 1s 10ms/step - loss: 1.3905 - accuracy: 0.7414\n",
      "Epoch 33/200\n",
      "126/126 [==============================] - 1s 9ms/step - loss: 1.3030 - accuracy: 0.7598\n",
      "Epoch 34/200\n",
      "126/126 [==============================] - 1s 10ms/step - loss: 1.2218 - accuracy: 0.7777\n",
      "Epoch 35/200\n",
      "126/126 [==============================] - 1s 9ms/step - loss: 1.1487 - accuracy: 0.7955\n",
      "Epoch 36/200\n",
      "126/126 [==============================] - 1s 9ms/step - loss: 1.0755 - accuracy: 0.8069\n",
      "Epoch 37/200\n",
      "126/126 [==============================] - 1s 9ms/step - loss: 1.0104 - accuracy: 0.8218\n",
      "Epoch 38/200\n",
      "126/126 [==============================] - 1s 9ms/step - loss: 0.9473 - accuracy: 0.8392\n",
      "Epoch 39/200\n",
      "126/126 [==============================] - 1s 10ms/step - loss: 0.8916 - accuracy: 0.8464\n",
      "Epoch 40/200\n",
      "126/126 [==============================] - 1s 9ms/step - loss: 0.8377 - accuracy: 0.8593\n",
      "Epoch 41/200\n",
      "126/126 [==============================] - 1s 9ms/step - loss: 0.7887 - accuracy: 0.8700\n",
      "Epoch 42/200\n",
      "126/126 [==============================] - 1s 9ms/step - loss: 0.7432 - accuracy: 0.8762\n",
      "Epoch 43/200\n",
      "126/126 [==============================] - 1s 9ms/step - loss: 0.6984 - accuracy: 0.8871\n",
      "Epoch 44/200\n",
      "126/126 [==============================] - 1s 9ms/step - loss: 0.6589 - accuracy: 0.8945\n",
      "Epoch 45/200\n",
      "126/126 [==============================] - 1s 8ms/step - loss: 0.6225 - accuracy: 0.8965\n",
      "Epoch 46/200\n",
      "126/126 [==============================] - 1s 9ms/step - loss: 0.5881 - accuracy: 0.9015\n",
      "Epoch 47/200\n",
      "126/126 [==============================] - 1s 8ms/step - loss: 0.5536 - accuracy: 0.9089\n",
      "Epoch 48/200\n",
      "126/126 [==============================] - 1s 8ms/step - loss: 0.5269 - accuracy: 0.9146\n",
      "Epoch 49/200\n",
      "126/126 [==============================] - 1s 9ms/step - loss: 0.4972 - accuracy: 0.9171\n",
      "Epoch 50/200\n",
      "126/126 [==============================] - 1s 9ms/step - loss: 0.4727 - accuracy: 0.9231\n",
      "Epoch 51/200\n",
      "126/126 [==============================] - 1s 9ms/step - loss: 0.4483 - accuracy: 0.9261\n",
      "Epoch 52/200\n",
      "126/126 [==============================] - 1s 9ms/step - loss: 0.4265 - accuracy: 0.9283\n",
      "Epoch 53/200\n",
      "126/126 [==============================] - 1s 9ms/step - loss: 0.4052 - accuracy: 0.9315\n",
      "Epoch 54/200\n",
      "126/126 [==============================] - 1s 9ms/step - loss: 0.3866 - accuracy: 0.9330\n",
      "Epoch 55/200\n",
      "126/126 [==============================] - 1s 9ms/step - loss: 0.3701 - accuracy: 0.9337\n",
      "Epoch 56/200\n",
      "126/126 [==============================] - 1s 9ms/step - loss: 0.3505 - accuracy: 0.9397\n",
      "Epoch 57/200\n",
      "126/126 [==============================] - 1s 9ms/step - loss: 0.3367 - accuracy: 0.9387\n",
      "Epoch 58/200\n",
      "126/126 [==============================] - 1s 9ms/step - loss: 0.3223 - accuracy: 0.9409\n",
      "Epoch 59/200\n",
      "126/126 [==============================] - 1s 9ms/step - loss: 0.3095 - accuracy: 0.9404\n",
      "Epoch 60/200\n",
      "126/126 [==============================] - 1s 10ms/step - loss: 0.2974 - accuracy: 0.9407\n",
      "Epoch 61/200\n",
      "126/126 [==============================] - 1s 9ms/step - loss: 0.2841 - accuracy: 0.9442\n",
      "Epoch 62/200\n",
      "126/126 [==============================] - 1s 9ms/step - loss: 0.2748 - accuracy: 0.9449\n",
      "Epoch 63/200\n",
      "126/126 [==============================] - 1s 9ms/step - loss: 0.2652 - accuracy: 0.9467\n",
      "Epoch 64/200\n",
      "126/126 [==============================] - 1s 9ms/step - loss: 0.2561 - accuracy: 0.9457\n",
      "Epoch 65/200\n",
      "126/126 [==============================] - 1s 9ms/step - loss: 0.2463 - accuracy: 0.9471\n",
      "Epoch 66/200\n",
      "126/126 [==============================] - 1s 9ms/step - loss: 0.2394 - accuracy: 0.9462\n",
      "Epoch 67/200\n",
      "126/126 [==============================] - 1s 11ms/step - loss: 0.2332 - accuracy: 0.9471\n",
      "Epoch 68/200\n",
      "126/126 [==============================] - 1s 9ms/step - loss: 0.2270 - accuracy: 0.9491\n",
      "Epoch 69/200\n",
      "126/126 [==============================] - 1s 9ms/step - loss: 0.2194 - accuracy: 0.9479\n",
      "Epoch 70/200\n",
      "126/126 [==============================] - 1s 10ms/step - loss: 0.2130 - accuracy: 0.9471\n",
      "Epoch 71/200\n",
      "126/126 [==============================] - 1s 10ms/step - loss: 0.2082 - accuracy: 0.9481\n",
      "Epoch 72/200\n",
      "126/126 [==============================] - 1s 9ms/step - loss: 0.2030 - accuracy: 0.9484\n",
      "Epoch 73/200\n",
      "126/126 [==============================] - 1s 9ms/step - loss: 0.1977 - accuracy: 0.9481\n",
      "Epoch 74/200\n",
      "126/126 [==============================] - 1s 10ms/step - loss: 0.1959 - accuracy: 0.9481\n",
      "Epoch 75/200\n",
      "126/126 [==============================] - 1s 9ms/step - loss: 0.1921 - accuracy: 0.9489\n",
      "Epoch 76/200\n",
      "126/126 [==============================] - 1s 9ms/step - loss: 0.1865 - accuracy: 0.9496\n",
      "Epoch 77/200\n",
      "126/126 [==============================] - 1s 9ms/step - loss: 0.1831 - accuracy: 0.9506\n",
      "Epoch 78/200\n",
      "126/126 [==============================] - 1s 10ms/step - loss: 0.1799 - accuracy: 0.9481\n",
      "Epoch 79/200\n",
      "126/126 [==============================] - 1s 10ms/step - loss: 0.1766 - accuracy: 0.9486\n",
      "Epoch 80/200\n",
      "126/126 [==============================] - 1s 9ms/step - loss: 0.1737 - accuracy: 0.9501\n",
      "Epoch 81/200\n"
     ]
    },
    {
     "name": "stdout",
     "output_type": "stream",
     "text": [
      "126/126 [==============================] - 1s 9ms/step - loss: 0.1713 - accuracy: 0.9484\n",
      "Epoch 82/200\n",
      "126/126 [==============================] - 1s 8ms/step - loss: 0.1683 - accuracy: 0.9481\n",
      "Epoch 83/200\n",
      "126/126 [==============================] - 1s 9ms/step - loss: 0.1681 - accuracy: 0.9489\n",
      "Epoch 84/200\n",
      "126/126 [==============================] - 1s 9ms/step - loss: 0.1652 - accuracy: 0.9494\n",
      "Epoch 85/200\n",
      "126/126 [==============================] - 1s 9ms/step - loss: 0.1633 - accuracy: 0.9474\n",
      "Epoch 86/200\n",
      "126/126 [==============================] - 1s 9ms/step - loss: 0.1607 - accuracy: 0.9491\n",
      "Epoch 87/200\n",
      "126/126 [==============================] - 1s 10ms/step - loss: 0.1613 - accuracy: 0.9474\n",
      "Epoch 88/200\n",
      "126/126 [==============================] - 1s 11ms/step - loss: 0.1582 - accuracy: 0.9479\n",
      "Epoch 89/200\n",
      "126/126 [==============================] - 1s 10ms/step - loss: 0.1563 - accuracy: 0.9496\n",
      "Epoch 90/200\n",
      "126/126 [==============================] - 1s 10ms/step - loss: 0.1552 - accuracy: 0.9501\n",
      "Epoch 91/200\n",
      "126/126 [==============================] - 1s 10ms/step - loss: 0.1532 - accuracy: 0.9494\n",
      "Epoch 92/200\n",
      "126/126 [==============================] - 1s 9ms/step - loss: 0.1523 - accuracy: 0.9486\n",
      "Epoch 93/200\n",
      "126/126 [==============================] - 1s 9ms/step - loss: 0.1503 - accuracy: 0.9486\n",
      "Epoch 94/200\n",
      "126/126 [==============================] - 1s 10ms/step - loss: 0.1502 - accuracy: 0.9484\n",
      "Epoch 95/200\n",
      "126/126 [==============================] - 1s 9ms/step - loss: 0.1490 - accuracy: 0.9474\n",
      "Epoch 96/200\n",
      "126/126 [==============================] - 1s 9ms/step - loss: 0.1470 - accuracy: 0.9476\n",
      "Epoch 97/200\n",
      "126/126 [==============================] - 1s 9ms/step - loss: 0.1452 - accuracy: 0.9506\n",
      "Epoch 98/200\n",
      "126/126 [==============================] - 1s 9ms/step - loss: 0.1454 - accuracy: 0.9474\n",
      "Epoch 99/200\n",
      "126/126 [==============================] - 1s 9ms/step - loss: 0.1446 - accuracy: 0.9491\n",
      "Epoch 100/200\n",
      "126/126 [==============================] - 1s 9ms/step - loss: 0.1444 - accuracy: 0.9484\n",
      "Epoch 101/200\n",
      "126/126 [==============================] - 1s 10ms/step - loss: 0.1448 - accuracy: 0.9496\n",
      "Epoch 102/200\n",
      "126/126 [==============================] - 1s 9ms/step - loss: 0.1424 - accuracy: 0.9491\n",
      "Epoch 103/200\n",
      "126/126 [==============================] - 1s 9ms/step - loss: 0.1417 - accuracy: 0.9499\n",
      "Epoch 104/200\n",
      "126/126 [==============================] - 1s 9ms/step - loss: 0.1420 - accuracy: 0.9486\n",
      "Epoch 105/200\n",
      "126/126 [==============================] - 1s 9ms/step - loss: 0.1402 - accuracy: 0.9499\n",
      "Epoch 106/200\n",
      "126/126 [==============================] - 1s 9ms/step - loss: 0.1402 - accuracy: 0.9474\n",
      "Epoch 107/200\n",
      "126/126 [==============================] - 1s 9ms/step - loss: 0.1388 - accuracy: 0.9494\n",
      "Epoch 108/200\n",
      "126/126 [==============================] - 1s 10ms/step - loss: 0.1387 - accuracy: 0.9509\n",
      "Epoch 109/200\n",
      "126/126 [==============================] - 1s 9ms/step - loss: 0.1379 - accuracy: 0.9486\n",
      "Epoch 110/200\n",
      "126/126 [==============================] - 1s 9ms/step - loss: 0.1377 - accuracy: 0.9501\n",
      "Epoch 111/200\n",
      "126/126 [==============================] - 1s 9ms/step - loss: 0.1848 - accuracy: 0.9387\n",
      "Epoch 112/200\n",
      "126/126 [==============================] - 1s 9ms/step - loss: 0.1617 - accuracy: 0.9454\n",
      "Epoch 113/200\n",
      "126/126 [==============================] - 1s 9ms/step - loss: 0.1440 - accuracy: 0.9491\n",
      "Epoch 114/200\n",
      "126/126 [==============================] - 1s 10ms/step - loss: 0.1375 - accuracy: 0.9491\n",
      "Epoch 115/200\n",
      "126/126 [==============================] - 1s 10ms/step - loss: 0.1351 - accuracy: 0.9476\n",
      "Epoch 116/200\n",
      "126/126 [==============================] - 1s 10ms/step - loss: 0.1347 - accuracy: 0.9484\n",
      "Epoch 117/200\n",
      "126/126 [==============================] - 1s 9ms/step - loss: 0.1346 - accuracy: 0.9489\n",
      "Epoch 118/200\n",
      "126/126 [==============================] - 1s 9ms/step - loss: 0.1351 - accuracy: 0.9504\n",
      "Epoch 119/200\n",
      "126/126 [==============================] - 1s 9ms/step - loss: 0.1342 - accuracy: 0.9469\n",
      "Epoch 120/200\n",
      "126/126 [==============================] - 1s 9ms/step - loss: 0.1337 - accuracy: 0.9499\n",
      "Epoch 121/200\n",
      "126/126 [==============================] - 1s 11ms/step - loss: 0.1333 - accuracy: 0.9489\n",
      "Epoch 122/200\n",
      "126/126 [==============================] - 1s 10ms/step - loss: 0.1329 - accuracy: 0.9514\n",
      "Epoch 123/200\n",
      "126/126 [==============================] - 1s 10ms/step - loss: 0.1333 - accuracy: 0.9506\n",
      "Epoch 124/200\n",
      "126/126 [==============================] - 1s 9ms/step - loss: 0.1327 - accuracy: 0.9491\n",
      "Epoch 125/200\n",
      "126/126 [==============================] - 1s 9ms/step - loss: 0.1323 - accuracy: 0.9496\n",
      "Epoch 126/200\n",
      "126/126 [==============================] - 1s 9ms/step - loss: 0.1323 - accuracy: 0.9499\n",
      "Epoch 127/200\n",
      "126/126 [==============================] - 1s 10ms/step - loss: 0.1321 - accuracy: 0.9501\n",
      "Epoch 128/200\n",
      "126/126 [==============================] - 1s 9ms/step - loss: 0.1316 - accuracy: 0.9479\n",
      "Epoch 129/200\n",
      "126/126 [==============================] - 1s 9ms/step - loss: 0.1309 - accuracy: 0.9506\n",
      "Epoch 130/200\n",
      "126/126 [==============================] - 1s 9ms/step - loss: 0.1312 - accuracy: 0.9499\n",
      "Epoch 131/200\n",
      "126/126 [==============================] - 1s 9ms/step - loss: 0.1315 - accuracy: 0.9499\n",
      "Epoch 132/200\n",
      "126/126 [==============================] - 1s 9ms/step - loss: 0.1310 - accuracy: 0.9489\n",
      "Epoch 133/200\n",
      "126/126 [==============================] - 1s 9ms/step - loss: 0.1321 - accuracy: 0.9496\n",
      "Epoch 134/200\n",
      "126/126 [==============================] - 1s 10ms/step - loss: 0.1310 - accuracy: 0.9491\n",
      "Epoch 135/200\n",
      "126/126 [==============================] - 1s 9ms/step - loss: 0.1304 - accuracy: 0.9501\n",
      "Epoch 136/200\n",
      "126/126 [==============================] - 1s 9ms/step - loss: 0.1306 - accuracy: 0.9469\n",
      "Epoch 137/200\n",
      "126/126 [==============================] - 1s 9ms/step - loss: 0.1307 - accuracy: 0.9489\n",
      "Epoch 138/200\n",
      "126/126 [==============================] - 1s 9ms/step - loss: 0.1303 - accuracy: 0.9499\n",
      "Epoch 139/200\n",
      "126/126 [==============================] - 1s 9ms/step - loss: 0.1295 - accuracy: 0.9491\n",
      "Epoch 140/200\n",
      "126/126 [==============================] - 1s 9ms/step - loss: 0.1298 - accuracy: 0.9501\n",
      "Epoch 141/200\n",
      "126/126 [==============================] - 1s 10ms/step - loss: 0.1298 - accuracy: 0.9481\n",
      "Epoch 142/200\n",
      "126/126 [==============================] - 1s 9ms/step - loss: 0.1297 - accuracy: 0.9499\n",
      "Epoch 143/200\n",
      "126/126 [==============================] - 1s 9ms/step - loss: 0.1309 - accuracy: 0.9504\n",
      "Epoch 144/200\n",
      "126/126 [==============================] - 1s 9ms/step - loss: 0.1396 - accuracy: 0.9471\n",
      "Epoch 145/200\n",
      "126/126 [==============================] - 1s 9ms/step - loss: 0.1682 - accuracy: 0.9387\n",
      "Epoch 146/200\n",
      "126/126 [==============================] - 1s 9ms/step - loss: 0.1444 - accuracy: 0.9464\n",
      "Epoch 147/200\n",
      "126/126 [==============================] - 1s 9ms/step - loss: 0.1347 - accuracy: 0.9484\n",
      "Epoch 148/200\n",
      "126/126 [==============================] - 1s 10ms/step - loss: 0.1303 - accuracy: 0.9489\n",
      "Epoch 149/200\n",
      "126/126 [==============================] - 1s 9ms/step - loss: 0.1299 - accuracy: 0.9501\n",
      "Epoch 150/200\n",
      "126/126 [==============================] - 1s 10ms/step - loss: 0.1291 - accuracy: 0.9486\n",
      "Epoch 151/200\n",
      "126/126 [==============================] - 1s 9ms/step - loss: 0.1282 - accuracy: 0.9509\n",
      "Epoch 152/200\n",
      "126/126 [==============================] - 1s 10ms/step - loss: 0.1283 - accuracy: 0.9496\n",
      "Epoch 153/200\n",
      "126/126 [==============================] - 1s 10ms/step - loss: 0.1287 - accuracy: 0.9481\n",
      "Epoch 154/200\n",
      "126/126 [==============================] - 1s 10ms/step - loss: 0.1283 - accuracy: 0.9506\n",
      "Epoch 155/200\n",
      "126/126 [==============================] - 1s 10ms/step - loss: 0.1280 - accuracy: 0.9499\n",
      "Epoch 156/200\n",
      "126/126 [==============================] - 1s 9ms/step - loss: 0.1280 - accuracy: 0.9494\n",
      "Epoch 157/200\n",
      "126/126 [==============================] - 1s 9ms/step - loss: 0.1275 - accuracy: 0.9499\n",
      "Epoch 158/200\n",
      "126/126 [==============================] - 1s 9ms/step - loss: 0.1279 - accuracy: 0.9511\n",
      "Epoch 159/200\n",
      "126/126 [==============================] - 1s 9ms/step - loss: 0.1279 - accuracy: 0.9514\n",
      "Epoch 160/200\n"
     ]
    },
    {
     "name": "stdout",
     "output_type": "stream",
     "text": [
      "126/126 [==============================] - 1s 9ms/step - loss: 0.1276 - accuracy: 0.9486\n",
      "Epoch 161/200\n",
      "126/126 [==============================] - 1s 10ms/step - loss: 0.1283 - accuracy: 0.9496\n",
      "Epoch 162/200\n",
      "126/126 [==============================] - 1s 9ms/step - loss: 0.1278 - accuracy: 0.9501\n",
      "Epoch 163/200\n",
      "126/126 [==============================] - 1s 9ms/step - loss: 0.1271 - accuracy: 0.9511\n",
      "Epoch 164/200\n",
      "126/126 [==============================] - 1s 9ms/step - loss: 0.1274 - accuracy: 0.9499\n",
      "Epoch 165/200\n",
      "126/126 [==============================] - 1s 9ms/step - loss: 0.1277 - accuracy: 0.9511\n",
      "Epoch 166/200\n",
      "126/126 [==============================] - 1s 9ms/step - loss: 0.1274 - accuracy: 0.9501\n",
      "Epoch 167/200\n",
      "126/126 [==============================] - 1s 9ms/step - loss: 0.1273 - accuracy: 0.9504\n",
      "Epoch 168/200\n",
      "126/126 [==============================] - 1s 10ms/step - loss: 0.1281 - accuracy: 0.9484\n",
      "Epoch 169/200\n",
      "126/126 [==============================] - 1s 9ms/step - loss: 0.1273 - accuracy: 0.9499\n",
      "Epoch 170/200\n",
      "126/126 [==============================] - 1s 9ms/step - loss: 0.1269 - accuracy: 0.9496\n",
      "Epoch 171/200\n",
      "126/126 [==============================] - 1s 9ms/step - loss: 0.1264 - accuracy: 0.9506\n",
      "Epoch 172/200\n",
      "126/126 [==============================] - 1s 9ms/step - loss: 0.1276 - accuracy: 0.9489\n",
      "Epoch 173/200\n",
      "126/126 [==============================] - 1s 9ms/step - loss: 0.1274 - accuracy: 0.9519\n",
      "Epoch 174/200\n",
      "126/126 [==============================] - 1s 10ms/step - loss: 0.1275 - accuracy: 0.9501\n",
      "Epoch 175/200\n",
      "126/126 [==============================] - 1s 10ms/step - loss: 0.1263 - accuracy: 0.9501\n",
      "Epoch 176/200\n",
      "126/126 [==============================] - 1s 9ms/step - loss: 0.1279 - accuracy: 0.9462\n",
      "Epoch 177/200\n",
      "126/126 [==============================] - 1s 11ms/step - loss: 0.1268 - accuracy: 0.9491\n",
      "Epoch 178/200\n",
      "126/126 [==============================] - 1s 9ms/step - loss: 0.1270 - accuracy: 0.9494\n",
      "Epoch 179/200\n",
      "126/126 [==============================] - 1s 10ms/step - loss: 0.1269 - accuracy: 0.9479\n",
      "Epoch 180/200\n",
      "126/126 [==============================] - 1s 10ms/step - loss: 0.1267 - accuracy: 0.9491\n",
      "Epoch 181/200\n",
      "126/126 [==============================] - 1s 11ms/step - loss: 0.1284 - accuracy: 0.9499\n",
      "Epoch 182/200\n",
      "126/126 [==============================] - 1s 10ms/step - loss: 0.1267 - accuracy: 0.9494\n",
      "Epoch 183/200\n",
      "126/126 [==============================] - 1s 10ms/step - loss: 0.1266 - accuracy: 0.9506\n",
      "Epoch 184/200\n",
      "126/126 [==============================] - 1s 10ms/step - loss: 0.1265 - accuracy: 0.9491\n",
      "Epoch 185/200\n",
      "126/126 [==============================] - 1s 9ms/step - loss: 0.1261 - accuracy: 0.9499\n",
      "Epoch 186/200\n",
      "126/126 [==============================] - 1s 10ms/step - loss: 0.1442 - accuracy: 0.9447\n",
      "Epoch 187/200\n",
      "126/126 [==============================] - 1s 10ms/step - loss: 0.1672 - accuracy: 0.9407\n",
      "Epoch 188/200\n",
      "126/126 [==============================] - 1s 10ms/step - loss: 0.1400 - accuracy: 0.9467\n",
      "Epoch 189/200\n",
      "126/126 [==============================] - 1s 9ms/step - loss: 0.1283 - accuracy: 0.9499\n",
      "Epoch 190/200\n",
      "126/126 [==============================] - 1s 10ms/step - loss: 0.1275 - accuracy: 0.9491\n",
      "Epoch 191/200\n",
      "126/126 [==============================] - 1s 10ms/step - loss: 0.1261 - accuracy: 0.9504\n",
      "Epoch 192/200\n",
      "126/126 [==============================] - 1s 10ms/step - loss: 0.1265 - accuracy: 0.9489\n",
      "Epoch 193/200\n",
      "126/126 [==============================] - 1s 10ms/step - loss: 0.1265 - accuracy: 0.9481\n",
      "Epoch 194/200\n",
      "126/126 [==============================] - 1s 10ms/step - loss: 0.1262 - accuracy: 0.9509\n",
      "Epoch 195/200\n",
      "126/126 [==============================] - 1s 9ms/step - loss: 0.1264 - accuracy: 0.9496\n",
      "Epoch 196/200\n",
      "126/126 [==============================] - 1s 9ms/step - loss: 0.1257 - accuracy: 0.9524\n",
      "Epoch 197/200\n",
      "126/126 [==============================] - 1s 9ms/step - loss: 0.1258 - accuracy: 0.9504\n",
      "Epoch 198/200\n",
      "126/126 [==============================] - 1s 9ms/step - loss: 0.1262 - accuracy: 0.9509\n",
      "Epoch 199/200\n",
      "126/126 [==============================] - 1s 9ms/step - loss: 0.1266 - accuracy: 0.9509\n",
      "Epoch 200/200\n",
      "126/126 [==============================] - 1s 10ms/step - loss: 0.1263 - accuracy: 0.9489\n"
     ]
    }
   ],
   "source": [
    "history = model.fit(input_to_model, label, epochs=200, batch_size=32, verbose=1)"
   ]
  },
  {
   "cell_type": "markdown",
   "metadata": {},
   "source": [
    "Let's plot details of our training."
   ]
  },
  {
   "cell_type": "code",
   "execution_count": 15,
   "metadata": {},
   "outputs": [
    {
     "data": {
      "image/png": "[encoded data removed]",
      "text/plain": [
       "<Figure size 432x288 with 1 Axes>"
      ]
     },
     "metadata": {
      "needs_background": "light"
     },
     "output_type": "display_data"
    },
    {
     "data": {
      "image/png": "[encoded data removed]",
      "text/plain": [
       "<Figure size 432x288 with 1 Axes>"
      ]
     },
     "metadata": {
      "needs_background": "light"
     },
     "output_type": "display_data"
    }
   ],
   "source": [
    "acc = history.history['accuracy']\n",
    "loss = history.history['loss']\n",
    "epochs = range(len(acc))\n",
    "plt.plot(epochs, acc, 'b', label='Training accuracy')\n",
    "plt.title('Training accuracy')\n",
    "plt.figure()\n",
    "plt.plot(epochs, loss, 'b', label='Training Loss')\n",
    "plt.title('Training loss')\n",
    "plt.legend()\n",
    "plt.show()"
   ]
  },
  {
   "cell_type": "markdown",
   "metadata": {},
   "source": [
    "# Generating fake comments\n",
    "\n",
    "To generate fake tweets, we use the below architecture:\n",
    "\n",
    "![](imgs/text_gen.png)\n",
    "\n",
    "The idea is to give one or more starting token(s) to our model, and generate the next tokens until we generate `.`.\n",
    "\n",
    "At each step, we select the token with the highest probability as our next token and generate the next one similartly using `model.predict_classes()`. \n",
    "\n",
    "**Note:** The model takes as input the activation `a` from the previous state of the LSTM and the token chosen, forward propagate by one step, and get a new output activation `a`. The new activation `a` can then be used to generate the output, using the `dense` layer with `softmax` activation as before. \n",
    "\n"
   ]
  },
  {
   "cell_type": "markdown",
   "metadata": {},
   "source": [
    "**Task 2**: Implement `generate()`. \n",
    "\n",
    "***"
   ]
  },
  {
   "cell_type": "code",
   "execution_count": 16,
   "metadata": {},
   "outputs": [],
   "source": [
    "#TASK 2\n",
    "# Implement the generate() function\n",
    "\n",
    "def generate(seed_text):\n",
    "    checker = False\n",
    "    text = seed_text\n",
    "    while checker == False:\n",
    "        a = tokenizer.texts_to_sequences([text])\n",
    "        a = np.array(pad_sequences(a, maxlen=(max_sequence_len-1), padding='pre'))\n",
    "        prediction = model.predict_classes(a)\n",
    "        predicted_word = list(tokenizer.word_index.items())[prediction[0]-1][0]\n",
    "        \n",
    "        text = f'{text} {predicted_word}'\n",
    "        \n",
    "        if predicted_word == '.' or len(text.split(' ')) == max_sequence_len:\n",
    "            checker = True\n",
    "        \n",
    "    return text\n",
    "    \n",
    "    ### END CODE HERE ### \n"
   ]
  },
  {
   "cell_type": "markdown",
   "metadata": {},
   "source": [
    "**Let's test it:**"
   ]
  },
  {
   "cell_type": "code",
   "execution_count": 17,
   "metadata": {},
   "outputs": [
    {
     "name": "stderr",
     "output_type": "stream",
     "text": [
      "WARNING: Logging before flag parsing goes to stderr.\n",
      "W0821 01:10:39.019292 21408 deprecation.py:323] From <ipython-input-16-4481f2724298>:10: Sequential.predict_classes (from tensorflow.python.keras.engine.sequential) is deprecated and will be removed after 2021-01-01.\n",
      "Instructions for updating:\n",
      "Please use instead:* `np.argmax(model.predict(x), axis=-1)`,   if your model does multi-class classification   (e.g. if it uses a `softmax` last-layer activation).* `(model.predict(x) > 0.5).astype(\"int32\")`,   if your model does binary classification   (e.g. if it uses a `sigmoid` last-layer activation).\n"
     ]
    },
    {
     "name": "stdout",
     "output_type": "stream",
     "text": [
      "COVID19 virus survives on surfaces for 7 days .\n",
      "COVID19 is the deadliest virus known to humans .\n",
      "The usa is a lot of water and gargling with warm salt water eliminates the covid19 virus .\n",
      "The new virus known to the covid19 was caused by an accidental leak from wuhan virus research institute .\n",
      "China has been vaccinating cattle for coronavirus for years , yet the news tells you it's new and gunna kill you all so go buy mask .\n"
     ]
    }
   ],
   "source": [
    "print(generate(\"COVID19 virus\"))\n",
    "print(generate(\"COVID19 is the\"))\n",
    "print(generate(\"The usa is\"))\n",
    "print(generate(\"The new virus\"))\n",
    "print(generate(\"China has\"))\n"
   ]
  },
  {
   "cell_type": "markdown",
   "metadata": {},
   "source": [
    "**Let's test it in an interactive mode:**"
   ]
  },
  {
   "cell_type": "code",
   "execution_count": 18,
   "metadata": {},
   "outputs": [
    {
     "name": "stdout",
     "output_type": "stream",
     "text": [
      "Write the beginning of your tweet, the algorithm machine will complete it. Your input is: bill gates\n",
      "bill gates caused the infection of covid19 . "
     ]
    }
   ],
   "source": [
    "usr_input = input(\"Write the beginning of your tweet, the algorithm machine will complete it. Your input is: \")\n",
    "for w in generate(usr_input).split():    \n",
    "    print(w, end =\" \")\n",
    "    time.sleep(0.4)\n"
   ]
  },
  {
   "cell_type": "markdown",
   "metadata": {},
   "source": [
    "# Generating text by sampling\n",
    "\n",
    "The previous part is generating text by choosing the token with the highest probability. Now, we sill generate text by sampling as shown in the architecture below:\n",
    "\n",
    "![](imgs/text_gen_sample.png)\n",
    "\n",
    "\n",
    "**TASK 3:** Implement the `generate_sample()` function. To sample a token from the output at each timestep, you need to use the following two functions:\n",
    "- `model.predict_proba()`: To get probabilities from the output layer.\n",
    "- `np.random.choice()`: To sample from the token list using the probaility array of each token.\n",
    "\n",
    "***"
   ]
  },
  {
   "cell_type": "code",
   "execution_count": 19,
   "metadata": {},
   "outputs": [],
   "source": [
    "#TASK 3\n",
    "# Implement the generate_sample() function\n",
    "def generate_sample(seed_text):\n",
    "   ### START CODE HERE ### \n",
    "    checker = False\n",
    "    text = seed_text\n",
    "    while checker == False:\n",
    "        a = tokenizer.texts_to_sequences([text])\n",
    "        a = np.array(pad_sequences(a, maxlen=(max_sequence_len-1), padding='pre'))\n",
    "        \n",
    "        prediction = model.predict_proba(a)[0]\n",
    "        key_list = list(tokenizer.word_index.keys())\n",
    "        key_list.insert(0, '')\n",
    "        rand = np.random.choice(key_list, p = prediction)\n",
    "        \n",
    "        text = f'{text} {rand}'\n",
    "        \n",
    "        if rand == '.' or len(text.split(' '))==max_sequence_len:\n",
    "            checker = True\n",
    "    return text\n",
    "    ### END CODE HERE ### "
   ]
  },
  {
   "cell_type": "markdown",
   "metadata": {},
   "source": [
    "**Let's test it in an interactive mode:**"
   ]
  },
  {
   "cell_type": "code",
   "execution_count": 20,
   "metadata": {},
   "outputs": [
    {
     "name": "stdout",
     "output_type": "stream",
     "text": [
      "Write the beginning of your tweet, the algorithm machine will complete it. Your input is: what could\n"
     ]
    },
    {
     "name": "stderr",
     "output_type": "stream",
     "text": [
      "W0821 01:27:37.827921 21408 deprecation.py:323] From <ipython-input-19-f80541ca1a25>:11: Sequential.predict_proba (from tensorflow.python.keras.engine.sequential) is deprecated and will be removed after 2021-01-01.\n",
      "Instructions for updating:\n",
      "Please use `model.predict()` instead.\n"
     ]
    },
    {
     "name": "stdout",
     "output_type": "stream",
     "text": [
      "what could transfer covid19 from person to person . "
     ]
    }
   ],
   "source": [
    "usr_input = input(\"Write the beginning of your tweet, the algorithm machine will complete it. Your input is: \")\n",
    "for w in generate_sample(usr_input).split():    \n",
    "    print(w, end =\" \")\n",
    "    time.sleep(0.4)\n"
   ]
  },
  {
   "cell_type": "markdown",
   "metadata": {},
   "source": [
    "# Generate your own text \n",
    "\n",
    "Below, use you own data to generate content for a different application:"
   ]
  },
  {
   "cell_type": "code",
   "execution_count": 21,
   "metadata": {},
   "outputs": [
    {
     "name": "stdout",
     "output_type": "stream",
     "text": [
      "Covid19 is likely just a mutated form of the common cold .\n",
      "Covid19 can't possibly be transmitted in areas with hot and humid climates .\n",
      "China is going the us nih in 2017 give 3 .\n",
      "russia says that if the coronavirus gets in your mouth , drinking water or other liquids will wash them down through your esophagus and into the stomach .\n",
      "watch out for cdc can detain anyone with a fever â€” indefinitely .\n"
     ]
    }
   ],
   "source": [
    "print(generate_sample('Covid19 is likely'))\n",
    "print(generate_sample(\"Covid19 can't possibly\"))\n",
    "print(generate_sample('China is going'))\n",
    "print(generate_sample('russia says that'))\n",
    "print(generate_sample('watch out for'))"
   ]
  },
  {
   "cell_type": "markdown",
   "metadata": {},
   "source": [
    "# Congratulations!\n",
    "\n",
    "You've come to the end of this assignment, and have seen how to build a deep learning architecture that generate fake tweets/comments. \n",
    "\n",
    "Congratulations on finishing this notebook! \n",
    "\n"
   ]
  }
 ],
 "metadata": {
  "accelerator": "GPU",
  "colab": {
   "name": "Shakespeare_generatoripynb",
   "provenance": []
  },
  "kernelspec": {
   "display_name": "Python 3",
   "language": "python",
   "name": "python3"
  },
  "language_info": {
   "codemirror_mode": {
    "name": "ipython",
    "version": 3
   },
   "file_extension": ".py",
   "mimetype": "text/x-python",
   "name": "python",
   "nbconvert_exporter": "python",
   "pygments_lexer": "ipython3",
   "version": "3.7.7"
  }
 },
 "nbformat": 4,
 "nbformat_minor": 1
}
